{
 "cells": [
  {
   "cell_type": "code",
   "execution_count": 1,
   "id": "229a7bc5",
   "metadata": {
    "ExecuteTime": {
     "end_time": "2022-10-13T04:13:06.098557Z",
     "start_time": "2022-10-13T04:13:06.083110Z"
    }
   },
   "outputs": [],
   "source": [
    "import os\n",
    "import pandas as pd \n",
    "from sklearn.model_selection import train_test_split\n",
    "from sklearn.neural_network import MLPClassifier\n",
    "from sklearn.metrics import ConfusionMatrixDisplay\n",
    "import joblib"
   ]
  },
  {
   "cell_type": "code",
   "execution_count": 2,
   "id": "452a405d",
   "metadata": {
    "ExecuteTime": {
     "end_time": "2022-10-13T04:13:06.620132Z",
     "start_time": "2022-10-13T04:13:06.593097Z"
    }
   },
   "outputs": [],
   "source": [
    "df = pd.read_csv('data/training-data.csv')"
   ]
  },
  {
   "cell_type": "code",
   "execution_count": 3,
   "id": "2e2410c0",
   "metadata": {
    "ExecuteTime": {
     "end_time": "2022-10-13T04:13:07.056083Z",
     "start_time": "2022-10-13T04:13:07.037637Z"
    }
   },
   "outputs": [],
   "source": [
    "features_list = df.columns.to_list()\n",
    "features_list.pop(0)\n",
    "y = df['gesture_id']\n",
    "X = df[features_list]"
   ]
  },
  {
   "cell_type": "code",
   "execution_count": 4,
   "id": "f1614094",
   "metadata": {
    "ExecuteTime": {
     "end_time": "2022-10-13T04:13:07.605601Z",
     "start_time": "2022-10-13T04:13:07.593554Z"
    }
   },
   "outputs": [],
   "source": [
    "X_train, X_test, y_train, y_test = train_test_split(X, y,random_state=2, test_size=0.2)"
   ]
  },
  {
   "cell_type": "code",
   "execution_count": null,
   "id": "2839f0ee",
   "metadata": {},
   "outputs": [],
   "source": [
    "clf = MLPClassifier(\n",
    "    hidden_layer_sizes = (20,15,13,10,8),\n",
    "    activation =\"relu\",\n",
    "    solver = 'sgd',\n",
    "    learning_rate = 'constant',\n",
    "    tol = 0.000001,\n",
    "    max_iter = 10000,\n",
    "    verbose = True\n",
    ")\n",
    "\n",
    "clf.fit(X_train, y_train)"
   ]
  },
  {
   "cell_type": "code",
   "execution_count": 6,
   "id": "ce2de393",
   "metadata": {
    "ExecuteTime": {
     "end_time": "2022-10-13T04:13:14.439466Z",
     "start_time": "2022-10-13T04:13:13.952422Z"
    }
   },
   "outputs": [
    {
     "data": {
      "text/plain": [
       "Text(0.5, 0.98, 'Confusion Matrix')"
      ]
     },
     "execution_count": 6,
     "metadata": {},
     "output_type": "execute_result"
    },
    {
     "data": {
      "image/png": "[encoded data removed]",
      "text/plain": [
       "<Figure size 432x288 with 2 Axes>"
      ]
     },
     "metadata": {
      "needs_background": "light"
     },
     "output_type": "display_data"
    }
   ],
   "source": [
    "fig=ConfusionMatrixDisplay.from_estimator(clf, X_test, y_test)\n",
    "fig.figure_.suptitle(\"Confusion Matrix\")"
   ]
  },
  {
   "cell_type": "code",
   "execution_count": 7,
   "id": "12e03bc1",
   "metadata": {
    "ExecuteTime": {
     "end_time": "2022-10-13T04:13:19.258757Z",
     "start_time": "2022-10-13T04:13:19.132947Z"
    }
   },
   "outputs": [
    {
     "data": {
      "text/plain": [
       "['model/clf.pkl']"
      ]
     },
     "execution_count": 7,
     "metadata": {},
     "output_type": "execute_result"
    }
   ],
   "source": [
    "if not os.path.exists('model'):\n",
    "    os.makedirs('model')\n",
    "joblib.dump(clf, 'model/clf.pkl', compress=9)"
   ]
  }
 ],
 "metadata": {
  "kernelspec": {
   "display_name": "mediapipe",
   "language": "python",
   "name": "mediapipe"
  },
  "language_info": {
   "codemirror_mode": {
    "name": "ipython",
    "version": 3
   },
   "file_extension": ".py",
   "mimetype": "text/x-python",
   "name": "python",
   "nbconvert_exporter": "python",
   "pygments_lexer": "ipython3",
   "version": "3.8.3"
  },
  "vscode": {
   "interpreter": {
    "hash": "9650cb4e16cdd4a8e8e2d128bf38d875813998db22a3c986335f89e0cb4d7bb2"
   }
  }
 },
 "nbformat": 4,
 "nbformat_minor": 5
}
